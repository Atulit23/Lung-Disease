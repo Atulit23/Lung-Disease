{
  "cells": [
    {
      "cell_type": "code",
      "execution_count": 1,
      "metadata": {
        "id": "gdlZnJYAFPDo"
      },
      "outputs": [],
      "source": [
        "import tensorflow as tf\n",
        "import numpy as np\n",
        "from tensorflow.keras.preprocessing.image import img_to_array, load_img"
      ]
    },
    {
      "cell_type": "code",
      "execution_count": 2,
      "metadata": {
        "id": "un35p2b3lhsU"
      },
      "outputs": [],
      "source": [
        "import h5py\n",
        "\n",
        "\n",
        "loaded_data = {}\n",
        "with h5py.File('features.h5', 'r') as hf:\n",
        "    for key in hf.keys():\n",
        "        loaded_data[key] = hf[key][:]\n"
      ]
    },
    {
      "cell_type": "code",
      "execution_count": 4,
      "metadata": {
        "id": "VjIz3W4NoAO2"
      },
      "outputs": [],
      "source": [
        "x = loaded_data['images']\n",
        "y = loaded_data['labels']"
      ]
    },
    {
      "cell_type": "code",
      "execution_count": 5,
      "metadata": {
        "id": "3PwH_HDMoIXV"
      },
      "outputs": [],
      "source": [
        "x = np.array(x)\n",
        "y = np.array(y)"
      ]
    },
    {
      "cell_type": "code",
      "execution_count": 7,
      "metadata": {
        "id": "vbnN01dpqQtI"
      },
      "outputs": [],
      "source": [
        "x = x / 255"
      ]
    },
    {
      "cell_type": "markdown",
      "metadata": {
        "id": "wY512gjlyoZW"
      },
      "source": [
        "training the model"
      ]
    },
    {
      "cell_type": "code",
      "execution_count": 8,
      "metadata": {
        "colab": {
          "base_uri": "https://localhost:8080/"
        },
        "id": "q7bRbnKPqD_i",
        "outputId": "13302ac4-1a74-4a52-8758-481bd45c8a34"
      },
      "outputs": [
        {
          "data": {
            "text/plain": [
              "(4000, 256, 256, 3)"
            ]
          },
          "execution_count": 8,
          "metadata": {},
          "output_type": "execute_result"
        }
      ],
      "source": [
        "x.shape"
      ]
    },
    {
      "cell_type": "code",
      "execution_count": 9,
      "metadata": {
        "id": "dfO_EmwQqGwI"
      },
      "outputs": [],
      "source": [
        "from tensorflow.keras.layers import Conv2D, Dense, Flatten, MaxPooling2D, BatchNormalization\n",
        "\n",
        "model = tf.keras.Sequential()\n",
        "model.add(Conv2D(32, kernel_size=(3, 3), input_shape=(256, 256, 3), padding='valid', activation='relu'))\n",
        "model.add(BatchNormalization())\n",
        "model.add(MaxPooling2D(pool_size=(2, 2), strides=2, padding='valid'))\n",
        "\n",
        "model.add(Conv2D(32, kernel_size=(3, 3),  padding='valid', activation='relu'))\n",
        "model.add(BatchNormalization())\n",
        "model.add(MaxPooling2D(pool_size=(2, 2), strides=2, padding='valid'))\n",
        "\n",
        "model.add(Conv2D(32, kernel_size=(3, 3),  padding='valid', activation='relu'))\n",
        "model.add(BatchNormalization())\n",
        "model.add(MaxPooling2D(pool_size=(2, 2), strides=2, padding='valid'))\n",
        "\n",
        "model.add(Flatten())\n",
        "\n",
        "model.add(Dense(128, activation='relu'))\n",
        "model.add(Dense(64, activation='relu'))\n",
        "model.add(Dense(32, activation='relu'))\n",
        "model.add(Dense(4, activation='softmax'))"
      ]
    },
    {
      "cell_type": "code",
      "execution_count": 10,
      "metadata": {
        "id": "C0Ni4-IfxFaN"
      },
      "outputs": [],
      "source": [
        "model.compile(optimizer='adam', metrics=['accuracy'], loss='sparse_categorical_crossentropy')"
      ]
    },
    {
      "cell_type": "code",
      "execution_count": null,
      "metadata": {},
      "outputs": [],
      "source": [
        "prediction = model.predict(img)\n"
      ]
    },
    {
      "cell_type": "code",
      "execution_count": 47,
      "metadata": {},
      "outputs": [
        {
          "name": "stdout",
          "output_type": "stream",
          "text": [
            "Epoch 1/9\n",
            "113/113 [==============================] - 208s 2s/step - loss: 0.9336 - accuracy: 0.6806 - val_loss: 4.5821 - val_accuracy: 0.0000e+00\n",
            "Epoch 2/9\n",
            "113/113 [==============================] - 184s 2s/step - loss: 0.5810 - accuracy: 0.7839 - val_loss: 1.2669 - val_accuracy: 0.5325\n",
            "Epoch 3/9\n",
            "113/113 [==============================] - 178s 2s/step - loss: 0.4567 - accuracy: 0.8303 - val_loss: 3.9544 - val_accuracy: 0.1975\n",
            "Epoch 4/9\n",
            "113/113 [==============================] - 177s 2s/step - loss: 0.2913 - accuracy: 0.8886 - val_loss: 2.0093 - val_accuracy: 0.2500\n",
            "Epoch 5/9\n",
            "113/113 [==============================] - 181s 2s/step - loss: 0.2106 - accuracy: 0.9208 - val_loss: 0.3460 - val_accuracy: 0.9075\n",
            "Epoch 6/9\n",
            "113/113 [==============================] - 186s 2s/step - loss: 0.1669 - accuracy: 0.9378 - val_loss: 0.3323 - val_accuracy: 0.9350\n",
            "Epoch 7/9\n",
            "113/113 [==============================] - 186s 2s/step - loss: 0.1052 - accuracy: 0.9636 - val_loss: 3.0804 - val_accuracy: 0.4750\n",
            "Epoch 8/9\n",
            "113/113 [==============================] - 185s 2s/step - loss: 0.0685 - accuracy: 0.9769 - val_loss: 0.1231 - val_accuracy: 0.9700\n",
            "Epoch 9/9\n",
            "113/113 [==============================] - 184s 2s/step - loss: 0.0822 - accuracy: 0.9742 - val_loss: 0.8442 - val_accuracy: 0.8350\n"
          ]
        }
      ],
      "source": [
        "history = model.fit(x, y, validation_split=0.1, epochs=9)"
      ]
    },
    {
      "cell_type": "code",
      "execution_count": 43,
      "metadata": {
        "id": "8C7beNQPy2uV"
      },
      "outputs": [],
      "source": [
        "img_path = '2.jpg'\n",
        "img = load_img(img_path, target_size=(256, 256, 3))\n",
        "img = img_to_array(img)\n",
        "img = np.array(img)\n",
        "img = img / 255\n",
        "img = np.expand_dims(img, axis=0)"
      ]
    },
    {
      "cell_type": "code",
      "execution_count": 14,
      "metadata": {},
      "outputs": [],
      "source": [
        "from tensorflow.keras.models import load_model"
      ]
    },
    {
      "cell_type": "code",
      "execution_count": 15,
      "metadata": {},
      "outputs": [],
      "source": [
        "model_new = load_model('LungDiseaseClassfier.h5')"
      ]
    },
    {
      "cell_type": "code",
      "execution_count": null,
      "metadata": {},
      "outputs": [],
      "source": [
        "prediction = model_new.predict(loaded_data['images'])"
      ]
    },
    {
      "cell_type": "code",
      "execution_count": 45,
      "metadata": {},
      "outputs": [
        {
          "name": "stdout",
          "output_type": "stream",
          "text": [
            "[[9.9999368e-01 2.0013606e-07 5.8349278e-06 2.3758518e-07]]\n"
          ]
        }
      ],
      "source": [
        "print(prediction)"
      ]
    },
    {
      "cell_type": "code",
      "execution_count": 33,
      "metadata": {},
      "outputs": [
        {
          "name": "stdout",
          "output_type": "stream",
          "text": [
            "[0 0 0 ... 3 3 3]\n"
          ]
        }
      ],
      "source": [
        "print(loaded_data['labels'])"
      ]
    },
    {
      "cell_type": "code",
      "execution_count": 8,
      "metadata": {},
      "outputs": [
        {
          "name": "stdout",
          "output_type": "stream",
          "text": [
            "Person is detected with COVID-19\n"
          ]
        }
      ],
      "source": [
        "if(np.argmax(prediction[0]) == 0):\n",
        "    print(\"Person is detected with COVID-19\")\n",
        "elif(np.argmax(prediction[0]) == 1):\n",
        "    print(\"Lung infection: Normal\")\n",
        "elif(np.argmax(prediction[0]) == 2):\n",
        "    print(\"Person is detected with Lung Opacity\")\n",
        "elif(np.argmax(prediction[0]) == 3):\n",
        "    print(\"Person is detected with Viral Pneumonia\")"
      ]
    },
    {
      "cell_type": "code",
      "execution_count": 40,
      "metadata": {},
      "outputs": [],
      "source": [
        "allPreds = []\n",
        "\n",
        "for i in prediction:\n",
        "    if (i[0] == 1):\n",
        "        allPreds.append(0)\n",
        "    elif (i[1] == 1):\n",
        "        allPreds.append(1)\n",
        "    elif (i[2] == 1):\n",
        "        allPreds.append(2)\n",
        "    elif (i[3] == 1):\n",
        "        allPreds.append(3)"
      ]
    },
    {
      "cell_type": "code",
      "execution_count": 48,
      "metadata": {},
      "outputs": [
        {
          "data": {
            "image/png": "[encoded data removed]",
            "text/plain": [
              "<Figure size 640x480 with 1 Axes>"
            ]
          },
          "metadata": {},
          "output_type": "display_data"
        }
      ],
      "source": [
        "import matplotlib.pyplot as plt\n",
        "\n",
        "plt.plot(history.history['accuracy'])\n",
        "plt.plot(history.history['val_accuracy'])\n",
        "plt.title('Model accuracy')\n",
        "plt.xlabel('Epoch')\n",
        "plt.ylabel('Accuracy')\n",
        "plt.legend(['Train', 'Validation'], loc='upper left')\n",
        "plt.show()"
      ]
    },
    {
      "cell_type": "code",
      "execution_count": 51,
      "metadata": {},
      "outputs": [],
      "source": [
        "from sklearn.metrics import confusion_matrix"
      ]
    },
    {
      "cell_type": "code",
      "execution_count": 54,
      "metadata": {},
      "outputs": [
        {
          "data": {
            "text/plain": [
              "(4000, 256, 256, 3)"
            ]
          },
          "execution_count": 54,
          "metadata": {},
          "output_type": "execute_result"
        }
      ],
      "source": [
        "loaded_data['images'].shape"
      ]
    },
    {
      "cell_type": "code",
      "execution_count": 62,
      "metadata": {},
      "outputs": [],
      "source": [
        "x_ = x[0:200]"
      ]
    },
    {
      "cell_type": "code",
      "execution_count": 63,
      "metadata": {},
      "outputs": [],
      "source": [
        "x_ = x_ + x[1001:1201]"
      ]
    },
    {
      "cell_type": "code",
      "execution_count": 101,
      "metadata": {},
      "outputs": [],
      "source": [
        "x_ = []"
      ]
    },
    {
      "cell_type": "code",
      "execution_count": 96,
      "metadata": {},
      "outputs": [],
      "source": [
        "x_.append(x[0:200])"
      ]
    },
    {
      "cell_type": "code",
      "execution_count": 97,
      "metadata": {},
      "outputs": [],
      "source": [
        "x_.append(x[1001:1201])\n",
        "x_.append(x[2001:2201])\n",
        "x_.append(x[3001:3201])\n"
      ]
    },
    {
      "cell_type": "code",
      "execution_count": 143,
      "metadata": {},
      "outputs": [],
      "source": [
        "x_ = x[0:100]"
      ]
    },
    {
      "cell_type": "code",
      "execution_count": 135,
      "metadata": {},
      "outputs": [
        {
          "data": {
            "text/plain": [
              "1"
            ]
          },
          "execution_count": 135,
          "metadata": {},
          "output_type": "execute_result"
        }
      ],
      "source": [
        "len(x_)"
      ]
    },
    {
      "cell_type": "code",
      "execution_count": 144,
      "metadata": {},
      "outputs": [],
      "source": [
        "num_samples, height, width, channels = x_.shape"
      ]
    },
    {
      "cell_type": "code",
      "execution_count": 145,
      "metadata": {},
      "outputs": [],
      "source": [
        "x_2d = x_.reshape((num_samples, height * width * channels))\n"
      ]
    },
    {
      "cell_type": "code",
      "execution_count": 146,
      "metadata": {},
      "outputs": [],
      "source": [
        "df = pd.DataFrame(x_2d, columns=[f'pixel_{i}' for i in range(height * width * channels)])"
      ]
    },
    {
      "cell_type": "code",
      "execution_count": 147,
      "metadata": {},
      "outputs": [
        {
          "data": {
            "text/html": [
              "<div>\n",
              "<style scoped>\n",
              "    .dataframe tbody tr th:only-of-type {\n",
              "        vertical-align: middle;\n",
              "    }\n",
              "\n",
              "    .dataframe tbody tr th {\n",
              "        vertical-align: top;\n",
              "    }\n",
              "\n",
              "    .dataframe thead th {\n",
              "        text-align: right;\n",
              "    }\n",
              "</style>\n",
              "<table border=\"1\" class=\"dataframe\">\n",
              "  <thead>\n",
              "    <tr style=\"text-align: right;\">\n",
              "      <th></th>\n",
              "      <th>pixel_0</th>\n",
              "      <th>pixel_1</th>\n",
              "      <th>pixel_2</th>\n",
              "      <th>pixel_3</th>\n",
              "      <th>pixel_4</th>\n",
              "      <th>pixel_5</th>\n",
              "      <th>pixel_6</th>\n",
              "      <th>pixel_7</th>\n",
              "      <th>pixel_8</th>\n",
              "      <th>pixel_9</th>\n",
              "      <th>...</th>\n",
              "      <th>pixel_196598</th>\n",
              "      <th>pixel_196599</th>\n",
              "      <th>pixel_196600</th>\n",
              "      <th>pixel_196601</th>\n",
              "      <th>pixel_196602</th>\n",
              "      <th>pixel_196603</th>\n",
              "      <th>pixel_196604</th>\n",
              "      <th>pixel_196605</th>\n",
              "      <th>pixel_196606</th>\n",
              "      <th>pixel_196607</th>\n",
              "    </tr>\n",
              "  </thead>\n",
              "  <tbody>\n",
              "    <tr>\n",
              "      <th>0</th>\n",
              "      <td>0.145098</td>\n",
              "      <td>0.145098</td>\n",
              "      <td>0.145098</td>\n",
              "      <td>0.023529</td>\n",
              "      <td>0.023529</td>\n",
              "      <td>0.023529</td>\n",
              "      <td>0.000000</td>\n",
              "      <td>0.000000</td>\n",
              "      <td>0.000000</td>\n",
              "      <td>0.000000</td>\n",
              "      <td>...</td>\n",
              "      <td>0.662745</td>\n",
              "      <td>0.576471</td>\n",
              "      <td>0.576471</td>\n",
              "      <td>0.576471</td>\n",
              "      <td>0.549020</td>\n",
              "      <td>0.549020</td>\n",
              "      <td>0.549020</td>\n",
              "      <td>0.603922</td>\n",
              "      <td>0.603922</td>\n",
              "      <td>0.603922</td>\n",
              "    </tr>\n",
              "    <tr>\n",
              "      <th>1</th>\n",
              "      <td>0.047059</td>\n",
              "      <td>0.047059</td>\n",
              "      <td>0.047059</td>\n",
              "      <td>0.007843</td>\n",
              "      <td>0.007843</td>\n",
              "      <td>0.007843</td>\n",
              "      <td>0.000000</td>\n",
              "      <td>0.000000</td>\n",
              "      <td>0.000000</td>\n",
              "      <td>0.000000</td>\n",
              "      <td>...</td>\n",
              "      <td>0.000000</td>\n",
              "      <td>0.027451</td>\n",
              "      <td>0.027451</td>\n",
              "      <td>0.027451</td>\n",
              "      <td>0.086275</td>\n",
              "      <td>0.086275</td>\n",
              "      <td>0.086275</td>\n",
              "      <td>0.133333</td>\n",
              "      <td>0.133333</td>\n",
              "      <td>0.133333</td>\n",
              "    </tr>\n",
              "    <tr>\n",
              "      <th>2</th>\n",
              "      <td>0.133333</td>\n",
              "      <td>0.133333</td>\n",
              "      <td>0.133333</td>\n",
              "      <td>0.023529</td>\n",
              "      <td>0.023529</td>\n",
              "      <td>0.023529</td>\n",
              "      <td>0.000000</td>\n",
              "      <td>0.000000</td>\n",
              "      <td>0.000000</td>\n",
              "      <td>0.000000</td>\n",
              "      <td>...</td>\n",
              "      <td>0.000000</td>\n",
              "      <td>0.000000</td>\n",
              "      <td>0.000000</td>\n",
              "      <td>0.000000</td>\n",
              "      <td>0.023529</td>\n",
              "      <td>0.023529</td>\n",
              "      <td>0.023529</td>\n",
              "      <td>0.133333</td>\n",
              "      <td>0.133333</td>\n",
              "      <td>0.133333</td>\n",
              "    </tr>\n",
              "    <tr>\n",
              "      <th>3</th>\n",
              "      <td>0.000000</td>\n",
              "      <td>0.000000</td>\n",
              "      <td>0.000000</td>\n",
              "      <td>0.000000</td>\n",
              "      <td>0.000000</td>\n",
              "      <td>0.000000</td>\n",
              "      <td>0.000000</td>\n",
              "      <td>0.000000</td>\n",
              "      <td>0.000000</td>\n",
              "      <td>0.000000</td>\n",
              "      <td>...</td>\n",
              "      <td>0.788235</td>\n",
              "      <td>0.796078</td>\n",
              "      <td>0.796078</td>\n",
              "      <td>0.796078</td>\n",
              "      <td>0.788235</td>\n",
              "      <td>0.788235</td>\n",
              "      <td>0.788235</td>\n",
              "      <td>0.796078</td>\n",
              "      <td>0.796078</td>\n",
              "      <td>0.796078</td>\n",
              "    </tr>\n",
              "    <tr>\n",
              "      <th>4</th>\n",
              "      <td>0.615686</td>\n",
              "      <td>0.615686</td>\n",
              "      <td>0.615686</td>\n",
              "      <td>0.486275</td>\n",
              "      <td>0.486275</td>\n",
              "      <td>0.486275</td>\n",
              "      <td>0.431373</td>\n",
              "      <td>0.431373</td>\n",
              "      <td>0.431373</td>\n",
              "      <td>0.439216</td>\n",
              "      <td>...</td>\n",
              "      <td>0.670588</td>\n",
              "      <td>0.662745</td>\n",
              "      <td>0.662745</td>\n",
              "      <td>0.662745</td>\n",
              "      <td>0.674510</td>\n",
              "      <td>0.674510</td>\n",
              "      <td>0.674510</td>\n",
              "      <td>0.678431</td>\n",
              "      <td>0.678431</td>\n",
              "      <td>0.678431</td>\n",
              "    </tr>\n",
              "    <tr>\n",
              "      <th>...</th>\n",
              "      <td>...</td>\n",
              "      <td>...</td>\n",
              "      <td>...</td>\n",
              "      <td>...</td>\n",
              "      <td>...</td>\n",
              "      <td>...</td>\n",
              "      <td>...</td>\n",
              "      <td>...</td>\n",
              "      <td>...</td>\n",
              "      <td>...</td>\n",
              "      <td>...</td>\n",
              "      <td>...</td>\n",
              "      <td>...</td>\n",
              "      <td>...</td>\n",
              "      <td>...</td>\n",
              "      <td>...</td>\n",
              "      <td>...</td>\n",
              "      <td>...</td>\n",
              "      <td>...</td>\n",
              "      <td>...</td>\n",
              "      <td>...</td>\n",
              "    </tr>\n",
              "    <tr>\n",
              "      <th>95</th>\n",
              "      <td>0.752941</td>\n",
              "      <td>0.752941</td>\n",
              "      <td>0.752941</td>\n",
              "      <td>0.760784</td>\n",
              "      <td>0.760784</td>\n",
              "      <td>0.760784</td>\n",
              "      <td>0.756863</td>\n",
              "      <td>0.756863</td>\n",
              "      <td>0.756863</td>\n",
              "      <td>0.729412</td>\n",
              "      <td>...</td>\n",
              "      <td>0.007843</td>\n",
              "      <td>0.066667</td>\n",
              "      <td>0.066667</td>\n",
              "      <td>0.066667</td>\n",
              "      <td>0.258824</td>\n",
              "      <td>0.258824</td>\n",
              "      <td>0.258824</td>\n",
              "      <td>0.494118</td>\n",
              "      <td>0.494118</td>\n",
              "      <td>0.494118</td>\n",
              "    </tr>\n",
              "    <tr>\n",
              "      <th>96</th>\n",
              "      <td>0.921569</td>\n",
              "      <td>0.921569</td>\n",
              "      <td>0.921569</td>\n",
              "      <td>0.894118</td>\n",
              "      <td>0.894118</td>\n",
              "      <td>0.894118</td>\n",
              "      <td>0.886275</td>\n",
              "      <td>0.886275</td>\n",
              "      <td>0.886275</td>\n",
              "      <td>0.886275</td>\n",
              "      <td>...</td>\n",
              "      <td>0.407843</td>\n",
              "      <td>0.400000</td>\n",
              "      <td>0.400000</td>\n",
              "      <td>0.400000</td>\n",
              "      <td>0.384314</td>\n",
              "      <td>0.384314</td>\n",
              "      <td>0.384314</td>\n",
              "      <td>0.372549</td>\n",
              "      <td>0.372549</td>\n",
              "      <td>0.372549</td>\n",
              "    </tr>\n",
              "    <tr>\n",
              "      <th>97</th>\n",
              "      <td>0.003922</td>\n",
              "      <td>0.003922</td>\n",
              "      <td>0.003922</td>\n",
              "      <td>0.003922</td>\n",
              "      <td>0.003922</td>\n",
              "      <td>0.003922</td>\n",
              "      <td>0.003922</td>\n",
              "      <td>0.003922</td>\n",
              "      <td>0.003922</td>\n",
              "      <td>0.003922</td>\n",
              "      <td>...</td>\n",
              "      <td>0.341176</td>\n",
              "      <td>0.341176</td>\n",
              "      <td>0.341176</td>\n",
              "      <td>0.341176</td>\n",
              "      <td>0.313726</td>\n",
              "      <td>0.313726</td>\n",
              "      <td>0.313726</td>\n",
              "      <td>0.294118</td>\n",
              "      <td>0.294118</td>\n",
              "      <td>0.294118</td>\n",
              "    </tr>\n",
              "    <tr>\n",
              "      <th>98</th>\n",
              "      <td>0.894118</td>\n",
              "      <td>0.894118</td>\n",
              "      <td>0.894118</td>\n",
              "      <td>0.556863</td>\n",
              "      <td>0.556863</td>\n",
              "      <td>0.556863</td>\n",
              "      <td>0.207843</td>\n",
              "      <td>0.207843</td>\n",
              "      <td>0.207843</td>\n",
              "      <td>0.007843</td>\n",
              "      <td>...</td>\n",
              "      <td>0.156863</td>\n",
              "      <td>0.180392</td>\n",
              "      <td>0.180392</td>\n",
              "      <td>0.180392</td>\n",
              "      <td>0.184314</td>\n",
              "      <td>0.184314</td>\n",
              "      <td>0.184314</td>\n",
              "      <td>0.141176</td>\n",
              "      <td>0.141176</td>\n",
              "      <td>0.141176</td>\n",
              "    </tr>\n",
              "    <tr>\n",
              "      <th>99</th>\n",
              "      <td>0.074510</td>\n",
              "      <td>0.074510</td>\n",
              "      <td>0.074510</td>\n",
              "      <td>0.074510</td>\n",
              "      <td>0.074510</td>\n",
              "      <td>0.074510</td>\n",
              "      <td>0.074510</td>\n",
              "      <td>0.074510</td>\n",
              "      <td>0.074510</td>\n",
              "      <td>0.074510</td>\n",
              "      <td>...</td>\n",
              "      <td>0.078431</td>\n",
              "      <td>0.078431</td>\n",
              "      <td>0.078431</td>\n",
              "      <td>0.078431</td>\n",
              "      <td>0.078431</td>\n",
              "      <td>0.078431</td>\n",
              "      <td>0.078431</td>\n",
              "      <td>0.078431</td>\n",
              "      <td>0.078431</td>\n",
              "      <td>0.078431</td>\n",
              "    </tr>\n",
              "  </tbody>\n",
              "</table>\n",
              "<p>100 rows × 196608 columns</p>\n",
              "</div>"
            ],
            "text/plain": [
              "     pixel_0   pixel_1   pixel_2   pixel_3   pixel_4   pixel_5   pixel_6  \\\n",
              "0   0.145098  0.145098  0.145098  0.023529  0.023529  0.023529  0.000000   \n",
              "1   0.047059  0.047059  0.047059  0.007843  0.007843  0.007843  0.000000   \n",
              "2   0.133333  0.133333  0.133333  0.023529  0.023529  0.023529  0.000000   \n",
              "3   0.000000  0.000000  0.000000  0.000000  0.000000  0.000000  0.000000   \n",
              "4   0.615686  0.615686  0.615686  0.486275  0.486275  0.486275  0.431373   \n",
              "..       ...       ...       ...       ...       ...       ...       ...   \n",
              "95  0.752941  0.752941  0.752941  0.760784  0.760784  0.760784  0.756863   \n",
              "96  0.921569  0.921569  0.921569  0.894118  0.894118  0.894118  0.886275   \n",
              "97  0.003922  0.003922  0.003922  0.003922  0.003922  0.003922  0.003922   \n",
              "98  0.894118  0.894118  0.894118  0.556863  0.556863  0.556863  0.207843   \n",
              "99  0.074510  0.074510  0.074510  0.074510  0.074510  0.074510  0.074510   \n",
              "\n",
              "     pixel_7   pixel_8   pixel_9  ...  pixel_196598  pixel_196599  \\\n",
              "0   0.000000  0.000000  0.000000  ...      0.662745      0.576471   \n",
              "1   0.000000  0.000000  0.000000  ...      0.000000      0.027451   \n",
              "2   0.000000  0.000000  0.000000  ...      0.000000      0.000000   \n",
              "3   0.000000  0.000000  0.000000  ...      0.788235      0.796078   \n",
              "4   0.431373  0.431373  0.439216  ...      0.670588      0.662745   \n",
              "..       ...       ...       ...  ...           ...           ...   \n",
              "95  0.756863  0.756863  0.729412  ...      0.007843      0.066667   \n",
              "96  0.886275  0.886275  0.886275  ...      0.407843      0.400000   \n",
              "97  0.003922  0.003922  0.003922  ...      0.341176      0.341176   \n",
              "98  0.207843  0.207843  0.007843  ...      0.156863      0.180392   \n",
              "99  0.074510  0.074510  0.074510  ...      0.078431      0.078431   \n",
              "\n",
              "    pixel_196600  pixel_196601  pixel_196602  pixel_196603  pixel_196604  \\\n",
              "0       0.576471      0.576471      0.549020      0.549020      0.549020   \n",
              "1       0.027451      0.027451      0.086275      0.086275      0.086275   \n",
              "2       0.000000      0.000000      0.023529      0.023529      0.023529   \n",
              "3       0.796078      0.796078      0.788235      0.788235      0.788235   \n",
              "4       0.662745      0.662745      0.674510      0.674510      0.674510   \n",
              "..           ...           ...           ...           ...           ...   \n",
              "95      0.066667      0.066667      0.258824      0.258824      0.258824   \n",
              "96      0.400000      0.400000      0.384314      0.384314      0.384314   \n",
              "97      0.341176      0.341176      0.313726      0.313726      0.313726   \n",
              "98      0.180392      0.180392      0.184314      0.184314      0.184314   \n",
              "99      0.078431      0.078431      0.078431      0.078431      0.078431   \n",
              "\n",
              "    pixel_196605  pixel_196606  pixel_196607  \n",
              "0       0.603922      0.603922      0.603922  \n",
              "1       0.133333      0.133333      0.133333  \n",
              "2       0.133333      0.133333      0.133333  \n",
              "3       0.796078      0.796078      0.796078  \n",
              "4       0.678431      0.678431      0.678431  \n",
              "..           ...           ...           ...  \n",
              "95      0.494118      0.494118      0.494118  \n",
              "96      0.372549      0.372549      0.372549  \n",
              "97      0.294118      0.294118      0.294118  \n",
              "98      0.141176      0.141176      0.141176  \n",
              "99      0.078431      0.078431      0.078431  \n",
              "\n",
              "[100 rows x 196608 columns]"
            ]
          },
          "execution_count": 147,
          "metadata": {},
          "output_type": "execute_result"
        }
      ],
      "source": [
        "df"
      ]
    },
    {
      "cell_type": "code",
      "execution_count": 66,
      "metadata": {},
      "outputs": [
        {
          "data": {
            "image/png": "[encoded data removed]",
            "text/plain": [
              "<Figure size 640x480 with 1 Axes>"
            ]
          },
          "metadata": {},
          "output_type": "display_data"
        }
      ],
      "source": [
        "import matplotlib.pyplot as plt\n",
        "\n",
        "# Assuming you have already compiled and trained your model as mentioned in your code\n",
        "\n",
        "# Plot training & validation accuracy values\n",
        "plt.plot(history.history['loss'])\n",
        "plt.plot(history.history['val_loss'])\n",
        "plt.title('Model Loss')\n",
        "plt.xlabel('Epoch')\n",
        "plt.ylabel('Loss')\n",
        "plt.legend(['Train', 'Validation'], loc='upper left')\n",
        "plt.show()"
      ]
    },
    {
      "cell_type": "code",
      "execution_count": 67,
      "metadata": {},
      "outputs": [],
      "source": [
        "from sklearn.metrics import roc_curve, auc\n",
        "import matplotlib.pyplot as plt"
      ]
    },
    {
      "cell_type": "code",
      "execution_count": 73,
      "metadata": {},
      "outputs": [],
      "source": [
        "allPreds = np.array(allPreds)"
      ]
    },
    {
      "cell_type": "code",
      "execution_count": 77,
      "metadata": {},
      "outputs": [],
      "source": [
        "true_labels = np.vstack(loaded_data['labels']).squeeze()"
      ]
    },
    {
      "cell_type": "code",
      "execution_count": 78,
      "metadata": {},
      "outputs": [],
      "source": [
        "predicted_probs = np.vstack(allPreds).squeeze()"
      ]
    },
    {
      "cell_type": "code",
      "execution_count": 81,
      "metadata": {},
      "outputs": [
        {
          "data": {
            "text/plain": [
              "array([0, 0, 0, ..., 0, 0, 0])"
            ]
          },
          "execution_count": 81,
          "metadata": {},
          "output_type": "execute_result"
        }
      ],
      "source": [
        "predicted_probs"
      ]
    },
    {
      "cell_type": "code",
      "execution_count": 71,
      "metadata": {},
      "outputs": [
        {
          "data": {
            "text/plain": [
              "array([0, 0, 0, ..., 3, 3, 3], dtype=int64)"
            ]
          },
          "execution_count": 71,
          "metadata": {},
          "output_type": "execute_result"
        }
      ],
      "source": [
        "loaded_data['labels']"
      ]
    },
    {
      "cell_type": "code",
      "execution_count": 72,
      "metadata": {},
      "outputs": [
        {
          "data": {
            "text/plain": [
              "array([0, 0, 0, ..., 0, 0, 0])"
            ]
          },
          "execution_count": 72,
          "metadata": {},
          "output_type": "execute_result"
        }
      ],
      "source": [
        "np.array(allPreds)"
      ]
    },
    {
      "cell_type": "code",
      "execution_count": 153,
      "metadata": {},
      "outputs": [],
      "source": [
        "preds = allPreds[:1]\n"
      ]
    },
    {
      "cell_type": "code",
      "execution_count": 157,
      "metadata": {},
      "outputs": [
        {
          "data": {
            "text/plain": [
              "array([0, 0, 0, ..., 3, 3, 3], dtype=int64)"
            ]
          },
          "execution_count": 157,
          "metadata": {},
          "output_type": "execute_result"
        }
      ],
      "source": [
        "loaded_data['labels']"
      ]
    },
    {
      "cell_type": "code",
      "execution_count": 158,
      "metadata": {},
      "outputs": [],
      "source": [
        "from sklearn.metrics import f1_score\n"
      ]
    },
    {
      "cell_type": "code",
      "execution_count": null,
      "metadata": {},
      "outputs": [],
      "source": [
        "allPredictions = []\n",
        "\n",
        "for i in loaded_data['images']:\n",
        "    img = np.array(i)\n",
        "    img = img / 255\n",
        "    img = np.expand_dims(img, axis=0)\n",
        "    prediction = model_new.predict(img)\n",
        "    allPredictions.append(np.argmax(prediction[0]))"
      ]
    },
    {
      "cell_type": "code",
      "execution_count": 165,
      "metadata": {},
      "outputs": [],
      "source": [
        "f1 = f1_score(loaded_data['labels'], allPredictions, average='macro')\n"
      ]
    },
    {
      "cell_type": "code",
      "execution_count": 166,
      "metadata": {},
      "outputs": [
        {
          "data": {
            "text/plain": [
              "0.9652215387608843"
            ]
          },
          "execution_count": 166,
          "metadata": {},
          "output_type": "execute_result"
        }
      ],
      "source": [
        "f1"
      ]
    },
    {
      "cell_type": "code",
      "execution_count": 167,
      "metadata": {},
      "outputs": [
        {
          "name": "stdout",
          "output_type": "stream",
          "text": [
            "[[990   8   2   0]\n",
            " [  6 994   0   0]\n",
            " [ 67  22 911   0]\n",
            " [ 11  18   5 966]]\n"
          ]
        }
      ],
      "source": [
        "conf_matrix = confusion_matrix(loaded_data['labels'], allPredictions)\n",
        "print(conf_matrix)"
      ]
    },
    {
      "cell_type": "code",
      "execution_count": 172,
      "metadata": {},
      "outputs": [
        {
          "data": {
            "image/png": "[encoded data removed]",
            "text/plain": [
              "<Figure size 640x480 with 1 Axes>"
            ]
          },
          "metadata": {},
          "output_type": "display_data"
        }
      ],
      "source": [
        "value_counts = np.bincount(allPredictions)\n",
        "\n",
        "label_mapping = {\n",
        "    0: 'Covid',\n",
        "    1: 'Normal',\n",
        "    2: 'Lung Opacity',\n",
        "    3: 'Viral Pneumonia'\n",
        "}\n",
        "\n",
        "values = [0, 1, 2, 3]\n",
        "plt.bar(values, value_counts[values], color=['red', 'green', 'blue', 'purple'])\n",
        "\n",
        "plt.xticks(values, [label_mapping[val] for val in values])\n",
        "\n",
        "plt.xlabel('Categories')\n",
        "plt.ylabel('Count')\n",
        "plt.title('Distribution of Values in the Array')\n",
        "plt.show()"
      ]
    },
    {
      "cell_type": "code",
      "execution_count": null,
      "metadata": {},
      "outputs": [],
      "source": []
    }
  ],
  "metadata": {
    "accelerator": "GPU",
    "colab": {
      "gpuType": "T4",
      "provenance": []
    },
    "kernelspec": {
      "display_name": "Python 3",
      "name": "python3"
    },
    "language_info": {
      "codemirror_mode": {
        "name": "ipython",
        "version": 3
      },
      "file_extension": ".py",
      "mimetype": "text/x-python",
      "name": "python",
      "nbconvert_exporter": "python",
      "pygments_lexer": "ipython3",
      "version": "3.11.3"
    }
  },
  "nbformat": 4,
  "nbformat_minor": 0
}
